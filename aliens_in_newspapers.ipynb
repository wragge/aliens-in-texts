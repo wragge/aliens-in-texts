{
 "cells": [
  {
   "cell_type": "markdown",
   "metadata": {},
   "source": [
    "# 'aliens' in newspapers"
   ]
  },
  {
   "cell_type": "code",
   "execution_count": 1,
   "metadata": {},
   "outputs": [
    {
     "name": "stderr",
     "output_type": "stream",
     "text": [
      "[nltk_data] Downloading package stopwords to /Users/tim/nltk_data...\n",
      "[nltk_data]   Package stopwords is already up-to-date!\n",
      "[nltk_data] Downloading package punkt to /Users/tim/nltk_data...\n",
      "[nltk_data]   Package punkt is already up-to-date!\n"
     ]
    },
    {
     "data": {
      "text/plain": [
       "DataTransformerRegistry.enable('json')"
      ]
     },
     "execution_count": 1,
     "metadata": {},
     "output_type": "execute_result"
    }
   ],
   "source": [
    "import pandas as pd\n",
    "import altair as alt\n",
    "from IPython.display import display, HTML, FileLink, clear_output\n",
    "import nltk\n",
    "import re\n",
    "nltk.download('stopwords')\n",
    "nltk.download('punkt')\n",
    "stopwords = nltk.corpus.stopwords.words('english')\n",
    "alt.renderers.enable('notebook')\n",
    "alt.data_transformers.enable('json')"
   ]
  },
  {
   "cell_type": "code",
   "execution_count": 2,
   "metadata": {},
   "outputs": [],
   "source": [
    "def make_word_sets(words=[], position=None, distance=None):\n",
    "    dfs = []\n",
    "    if position and distance:\n",
    "        if position == 'before':\n",
    "            distance = 0 - distance\n",
    "        elif position == 'after':\n",
    "            distance = distance - 1\n",
    "    if words:\n",
    "        for word in words:\n",
    "            if position and distance:\n",
    "                new_df = df.loc[df[position].apply(lambda x: x[distance] == word)].copy()\n",
    "            elif position:\n",
    "                new_df = df.loc[df[position].apply(lambda x: word in x)].copy()\n",
    "            elif distance:\n",
    "                new_df = df.loc[df['before'].apply(lambda x: x[0 - distance].lower() == word) | df['after'].apply(lambda x: x[distance - 1] == word)].copy()\n",
    "            else:\n",
    "                new_df = df.loc[df['before'].apply(lambda x: word in x) | df['after'].apply(lambda x: word in x)].copy()\n",
    "            new_df['word'] = word\n",
    "            dfs.append(new_df[['date', 'article_id', 'newspaper_id', 'word', 'kwic']])\n",
    "    elif position and distance:\n",
    "        new_df = df.copy()\n",
    "        new_df['word']= new_df.apply(lambda row: row[position][distance].lower(), axis=1)\n",
    "        dfs.append(new_df[['date', 'article_id', 'newspaper_id', 'word', 'kwic']])\n",
    "    return pd.concat(dfs, ignore_index=True)"
   ]
  },
  {
   "cell_type": "markdown",
   "metadata": {},
   "source": [
    "## Load the data"
   ]
  },
  {
   "cell_type": "code",
   "execution_count": 3,
   "metadata": {},
   "outputs": [],
   "source": [
    "# Load aliens data from DropBox (it's big)\n",
    "df = pd.read_csv('https://www.dropbox.com/s/m9md8hw9yprwuuq/newspapers-1548372464-aliens-words-5.csv?dl=1', parse_dates=['date'])\n",
    "df['before'] = df['before'].str.lower().str.split('|')\n",
    "df['after'] = df['after'].str.lower().str.split('|')\n",
    "df.dropna(inplace=True)"
   ]
  },
  {
   "cell_type": "code",
   "execution_count": 4,
   "metadata": {},
   "outputs": [
    {
     "data": {
      "text/html": [
       "<div>\n",
       "<style scoped>\n",
       "    .dataframe tbody tr th:only-of-type {\n",
       "        vertical-align: middle;\n",
       "    }\n",
       "\n",
       "    .dataframe tbody tr th {\n",
       "        vertical-align: top;\n",
       "    }\n",
       "\n",
       "    .dataframe thead th {\n",
       "        text-align: right;\n",
       "    }\n",
       "</style>\n",
       "<table border=\"1\" class=\"dataframe\">\n",
       "  <thead>\n",
       "    <tr style=\"text-align: right;\">\n",
       "      <th></th>\n",
       "      <th>article_id</th>\n",
       "      <th>newspaper_id</th>\n",
       "      <th>date</th>\n",
       "      <th>kwic</th>\n",
       "      <th>before</th>\n",
       "      <th>after</th>\n",
       "    </tr>\n",
       "  </thead>\n",
       "  <tbody>\n",
       "    <tr>\n",
       "      <th>0</th>\n",
       "      <td>58444048</td>\n",
       "      <td>89</td>\n",
       "      <td>1911-07-04</td>\n",
       "      <td>lson was declared a draw. During Ust year 476,...</td>\n",
       "      <td>[during, ust, year, 476, 083]</td>\n",
       "      <td>[ust, year, 476, 083, aliens]</td>\n",
       "    </tr>\n",
       "    <tr>\n",
       "      <th>1</th>\n",
       "      <td>199421680</td>\n",
       "      <td>809</td>\n",
       "      <td>1905-11-11</td>\n",
       "      <td>o doubt that the conditions under which groups...</td>\n",
       "      <td>[conditions, under, which, groups, of]</td>\n",
       "      <td>[in, lie, past, had, been]</td>\n",
       "    </tr>\n",
       "    <tr>\n",
       "      <th>2</th>\n",
       "      <td>9693820</td>\n",
       "      <td>10</td>\n",
       "      <td>1904-11-26</td>\n",
       "      <td>ing Chinese labour, fiscal re- form, exclusion...</td>\n",
       "      <td>[fiscal, re, form, exclusion, of]</td>\n",
       "      <td>[and, the, edu, cation, bill]</td>\n",
       "    </tr>\n",
       "    <tr>\n",
       "      <th>4</th>\n",
       "      <td>247920031</td>\n",
       "      <td>1347</td>\n",
       "      <td>1942-03-27</td>\n",
       "      <td>CANBERRA, Thursday.— Immediate internment of ...</td>\n",
       "      <td>[thursday, immediate, internment, of, all]</td>\n",
       "      <td>[except, na, tionals, of, allied]</td>\n",
       "    </tr>\n",
       "    <tr>\n",
       "      <th>5</th>\n",
       "      <td>247920031</td>\n",
       "      <td>1347</td>\n",
       "      <td>1942-03-27</td>\n",
       "      <td>Fadden) tonight. . \"The activities of women en...</td>\n",
       "      <td>[the, activities, of, women, enemy]</td>\n",
       "      <td>[should, be, investigated, and, re]</td>\n",
       "    </tr>\n",
       "  </tbody>\n",
       "</table>\n",
       "</div>"
      ],
      "text/plain": [
       "   article_id  newspaper_id       date  \\\n",
       "0    58444048            89 1911-07-04   \n",
       "1   199421680           809 1905-11-11   \n",
       "2     9693820            10 1904-11-26   \n",
       "4   247920031          1347 1942-03-27   \n",
       "5   247920031          1347 1942-03-27   \n",
       "\n",
       "                                                kwic  \\\n",
       "0  lson was declared a draw. During Ust year 476,...   \n",
       "1  o doubt that the conditions under which groups...   \n",
       "2  ing Chinese labour, fiscal re- form, exclusion...   \n",
       "4   CANBERRA, Thursday.— Immediate internment of ...   \n",
       "5  Fadden) tonight. . \"The activities of women en...   \n",
       "\n",
       "                                       before  \\\n",
       "0               [during, ust, year, 476, 083]   \n",
       "1      [conditions, under, which, groups, of]   \n",
       "2           [fiscal, re, form, exclusion, of]   \n",
       "4  [thursday, immediate, internment, of, all]   \n",
       "5         [the, activities, of, women, enemy]   \n",
       "\n",
       "                                 after  \n",
       "0        [ust, year, 476, 083, aliens]  \n",
       "1           [in, lie, past, had, been]  \n",
       "2        [and, the, edu, cation, bill]  \n",
       "4    [except, na, tionals, of, allied]  \n",
       "5  [should, be, investigated, and, re]  "
      ]
     },
     "execution_count": 4,
     "metadata": {},
     "output_type": "execute_result"
    }
   ],
   "source": [
    "df.head()"
   ]
  },
  {
   "cell_type": "code",
   "execution_count": 5,
   "metadata": {},
   "outputs": [],
   "source": [
    "# Get a count of articles per year\n",
    "counts = df['date'].groupby([df.date.dt.year]).agg('count').to_frame()\n",
    "counts.columns = ['count']\n",
    "counts = counts.reset_index()"
   ]
  },
  {
   "cell_type": "code",
   "execution_count": 6,
   "metadata": {},
   "outputs": [
    {
     "data": {
      "application/javascript": [
       "var spec = {\"config\": {\"view\": {\"width\": 400, \"height\": 300}}, \"data\": {\"url\": \"altair-data-d498465d8dcaa66f172526dcb2d2b2f3.json\", \"format\": {\"type\": \"json\"}}, \"mark\": \"area\", \"encoding\": {\"x\": {\"type\": \"ordinal\", \"field\": \"date\"}, \"y\": {\"type\": \"quantitative\", \"field\": \"count\"}}, \"width\": 700, \"$schema\": \"https://vega.github.io/schema/vega-lite/v2.6.0.json\"};\n",
       "var opt = {};\n",
       "var type = \"vega-lite\";\n",
       "var id = \"6744e114-b787-48bb-9951-383d70070bde\";\n",
       "\n",
       "var output_area = this;\n",
       "\n",
       "require([\"nbextensions/jupyter-vega/index\"], function(vega) {\n",
       "  var target = document.createElement(\"div\");\n",
       "  target.id = id;\n",
       "  target.className = \"vega-embed\";\n",
       "\n",
       "  var style = document.createElement(\"style\");\n",
       "  style.textContent = [\n",
       "    \".vega-embed .error p {\",\n",
       "    \"  color: firebrick;\",\n",
       "    \"  font-size: 14px;\",\n",
       "    \"}\",\n",
       "  ].join(\"\\\\n\");\n",
       "\n",
       "  // element is a jQuery wrapped DOM element inside the output area\n",
       "  // see http://ipython.readthedocs.io/en/stable/api/generated/\\\n",
       "  // IPython.display.html#IPython.display.Javascript.__init__\n",
       "  element[0].appendChild(target);\n",
       "  element[0].appendChild(style);\n",
       "\n",
       "  vega.render(\"#\" + id, spec, type, opt, output_area);\n",
       "}, function (err) {\n",
       "  if (err.requireType !== \"scripterror\") {\n",
       "    throw(err);\n",
       "  }\n",
       "});\n"
      ],
      "text/plain": [
       "<vega.vegalite.VegaLite at 0x102ada908>"
      ]
     },
     "metadata": {
      "jupyter-vega": "#6744e114-b787-48bb-9951-383d70070bde"
     },
     "output_type": "display_data"
    },
    {
     "data": {
      "text/plain": []
     },
     "execution_count": 6,
     "metadata": {},
     "output_type": "execute_result"
    },
    {
     "data": {
      "image/png": "[encoded data removed]"
     },
     "metadata": {
      "jupyter-vega": "#6744e114-b787-48bb-9951-383d70070bde"
     },
     "output_type": "display_data"
    }
   ],
   "source": [
    "alt.Chart(counts).mark_area().encode(\n",
    "    x='date:O',\n",
    "    y='count:Q'\n",
    ").properties(\n",
    "    width=700\n",
    ")"
   ]
  },
  {
   "cell_type": "markdown",
   "metadata": {},
   "source": [
    "## Word before"
   ]
  },
  {
   "cell_type": "code",
   "execution_count": 7,
   "metadata": {},
   "outputs": [],
   "source": [
    "word_before_df = make_word_sets(position='before', distance=1)"
   ]
  },
  {
   "cell_type": "code",
   "execution_count": 8,
   "metadata": {},
   "outputs": [
    {
     "data": {
      "text/plain": [
       "of             37920\n",
       "the            23385\n",
       "enemy          22023\n",
       "to              8642\n",
       "all             6204\n",
       "by              5371\n",
       "other           4579\n",
       "that            4096\n",
       "and             4067\n",
       "colored         4033\n",
       "these           3870\n",
       "coloured        3774\n",
       "as              3692\n",
       "undesirable     3541\n",
       "with            2563\n",
       "for             2271\n",
       "asiatic         2068\n",
       "000             1871\n",
       "friendly        1705\n",
       "are             1647\n",
       "Name: word, dtype: int64"
      ]
     },
     "execution_count": 8,
     "metadata": {},
     "output_type": "execute_result"
    }
   ],
   "source": [
    "word_before_df['word'].value_counts()[:20]"
   ]
  },
  {
   "cell_type": "code",
   "execution_count": 9,
   "metadata": {},
   "outputs": [],
   "source": [
    "word_before_df = word_before_df.loc[word_before_df['word'].apply(lambda x: (x.lower() not in stopwords) and len(x) > 2)]"
   ]
  },
  {
   "cell_type": "code",
   "execution_count": 10,
   "metadata": {},
   "outputs": [
    {
     "data": {
      "text/plain": [
       "enemy            22023\n",
       "colored           4033\n",
       "coloured          3774\n",
       "undesirable       3541\n",
       "asiatic           2068\n",
       "000               1871\n",
       "friendly          1705\n",
       "tho               1581\n",
       "many              1558\n",
       "naturalised       1533\n",
       "interned           889\n",
       "security           829\n",
       "exclude            769\n",
       "refugee            708\n",
       "civil              691\n",
       "destitute          676\n",
       "african            641\n",
       "pauper             615\n",
       "unnaturalised      578\n",
       "prevent            571\n",
       "two                545\n",
       "certain            537\n",
       "desirable          472\n",
       "dangerous          451\n",
       "white              421\n",
       "Name: word, dtype: int64"
      ]
     },
     "execution_count": 10,
     "metadata": {},
     "output_type": "execute_result"
    }
   ],
   "source": [
    "word_before_df['word'].value_counts()[:25]"
   ]
  },
  {
   "cell_type": "code",
   "execution_count": 11,
   "metadata": {},
   "outputs": [],
   "source": [
    "adjectives = ['enemy', 'colored', 'undesirable', 'asiatic', 'friendly', 'refugee', 'destitute', 'pauper', 'refugee']"
   ]
  },
  {
   "cell_type": "code",
   "execution_count": 12,
   "metadata": {},
   "outputs": [],
   "source": [
    "adjs_df = make_word_sets(adjectives, position='before', distance=1)\n",
    "adjs_df = adjs_df.replace('coloured', 'colored')"
   ]
  },
  {
   "cell_type": "code",
   "execution_count": 13,
   "metadata": {},
   "outputs": [
    {
     "data": {
      "application/javascript": [
       "var spec = {\"config\": {\"view\": {\"width\": 400, \"height\": 300}}, \"data\": {\"url\": \"altair-data-103a7402bcca85dfeb7f542f038e4f91.json\", \"format\": {\"type\": \"json\"}}, \"mark\": {\"type\": \"bar\", \"size\": 8}, \"encoding\": {\"color\": {\"type\": \"nominal\", \"field\": \"word\"}, \"x\": {\"type\": \"temporal\", \"field\": \"date\", \"timeUnit\": \"year\"}, \"y\": {\"type\": \"quantitative\", \"aggregate\": \"count\"}}, \"transform\": [{\"filter\": {\"and\": [{\"field\": \"date\", \"range\": [1880, 1950], \"timeUnit\": \"year\"}]}}], \"width\": 700, \"$schema\": \"https://vega.github.io/schema/vega-lite/v2.6.0.json\"};\n",
       "var opt = {};\n",
       "var type = \"vega-lite\";\n",
       "var id = \"f1c2fb53-36df-4f58-b106-d90f250c3008\";\n",
       "\n",
       "var output_area = this;\n",
       "\n",
       "require([\"nbextensions/jupyter-vega/index\"], function(vega) {\n",
       "  var target = document.createElement(\"div\");\n",
       "  target.id = id;\n",
       "  target.className = \"vega-embed\";\n",
       "\n",
       "  var style = document.createElement(\"style\");\n",
       "  style.textContent = [\n",
       "    \".vega-embed .error p {\",\n",
       "    \"  color: firebrick;\",\n",
       "    \"  font-size: 14px;\",\n",
       "    \"}\",\n",
       "  ].join(\"\\\\n\");\n",
       "\n",
       "  // element is a jQuery wrapped DOM element inside the output area\n",
       "  // see http://ipython.readthedocs.io/en/stable/api/generated/\\\n",
       "  // IPython.display.html#IPython.display.Javascript.__init__\n",
       "  element[0].appendChild(target);\n",
       "  element[0].appendChild(style);\n",
       "\n",
       "  vega.render(\"#\" + id, spec, type, opt, output_area);\n",
       "}, function (err) {\n",
       "  if (err.requireType !== \"scripterror\") {\n",
       "    throw(err);\n",
       "  }\n",
       "});\n"
      ],
      "text/plain": [
       "<vega.vegalite.VegaLite at 0x12d6f1278>"
      ]
     },
     "metadata": {
      "jupyter-vega": "#f1c2fb53-36df-4f58-b106-d90f250c3008"
     },
     "output_type": "display_data"
    },
    {
     "data": {
      "text/plain": []
     },
     "execution_count": 13,
     "metadata": {},
     "output_type": "execute_result"
    },
    {
     "data": {
      "image/png": "[encoded data removed]"
     },
     "metadata": {
      "jupyter-vega": "#f1c2fb53-36df-4f58-b106-d90f250c3008"
     },
     "output_type": "display_data"
    }
   ],
   "source": [
    "c1 = alt.Chart(adjs_df).mark_bar(size=8).encode(\n",
    "    x='year(date):T',\n",
    "    y=alt.Y('count():Q'),\n",
    "    color='word'\n",
    ").properties(\n",
    "    width=700\n",
    ").transform_filter(\n",
    "    {'and': [\n",
    "        alt.FieldRangePredicate(field='date', range=[1880, 1950], timeUnit='year'),\n",
    "        #alt.FieldOneOfPredicate(field='word', oneOf=['colored', 'undesirable', 'asiatic', 'illegal'])\n",
    "    ]}\n",
    ")\n",
    "c1"
   ]
  },
  {
   "cell_type": "code",
   "execution_count": 14,
   "metadata": {},
   "outputs": [
    {
     "data": {
      "application/javascript": [
       "var spec = {\"config\": {\"view\": {\"width\": 400, \"height\": 300}}, \"data\": {\"url\": \"altair-data-103a7402bcca85dfeb7f542f038e4f91.json\", \"format\": {\"type\": \"json\"}}, \"mark\": \"bar\", \"encoding\": {\"color\": {\"type\": \"nominal\", \"field\": \"word\"}, \"x\": {\"type\": \"nominal\", \"field\": \"date\", \"timeUnit\": \"year\"}, \"y\": {\"type\": \"quantitative\", \"aggregate\": \"count\", \"stack\": \"normalize\"}}, \"transform\": [{\"filter\": {\"and\": [{\"field\": \"date\", \"range\": [1880, 1910], \"timeUnit\": \"year\"}]}}], \"$schema\": \"https://vega.github.io/schema/vega-lite/v2.6.0.json\"};\n",
       "var opt = {};\n",
       "var type = \"vega-lite\";\n",
       "var id = \"59ac5428-7c0c-46f3-9ba9-efab601a8672\";\n",
       "\n",
       "var output_area = this;\n",
       "\n",
       "require([\"nbextensions/jupyter-vega/index\"], function(vega) {\n",
       "  var target = document.createElement(\"div\");\n",
       "  target.id = id;\n",
       "  target.className = \"vega-embed\";\n",
       "\n",
       "  var style = document.createElement(\"style\");\n",
       "  style.textContent = [\n",
       "    \".vega-embed .error p {\",\n",
       "    \"  color: firebrick;\",\n",
       "    \"  font-size: 14px;\",\n",
       "    \"}\",\n",
       "  ].join(\"\\\\n\");\n",
       "\n",
       "  // element is a jQuery wrapped DOM element inside the output area\n",
       "  // see http://ipython.readthedocs.io/en/stable/api/generated/\\\n",
       "  // IPython.display.html#IPython.display.Javascript.__init__\n",
       "  element[0].appendChild(target);\n",
       "  element[0].appendChild(style);\n",
       "\n",
       "  vega.render(\"#\" + id, spec, type, opt, output_area);\n",
       "}, function (err) {\n",
       "  if (err.requireType !== \"scripterror\") {\n",
       "    throw(err);\n",
       "  }\n",
       "});\n"
      ],
      "text/plain": [
       "<vega.vegalite.VegaLite at 0x100fab748>"
      ]
     },
     "metadata": {
      "jupyter-vega": "#59ac5428-7c0c-46f3-9ba9-efab601a8672"
     },
     "output_type": "display_data"
    },
    {
     "data": {
      "text/plain": []
     },
     "execution_count": 14,
     "metadata": {},
     "output_type": "execute_result"
    },
    {
     "data": {
      "image/png": "[encoded data removed]"
     },
     "metadata": {
      "jupyter-vega": "#59ac5428-7c0c-46f3-9ba9-efab601a8672"
     },
     "output_type": "display_data"
    }
   ],
   "source": [
    "c2 = alt.Chart(adjs_df).mark_bar().encode(\n",
    "    x='year(date):N',\n",
    "    y=alt.Y('count():Q', stack='normalize'),\n",
    "    color=alt.Color('word:N')\n",
    ").properties(\n",
    "\n",
    ").transform_filter(\n",
    "    {'and': [\n",
    "        alt.FieldRangePredicate(field='date', range=[1880, 1910], timeUnit='year'),\n",
    "        #alt.FieldOneOfPredicate(field='word', oneOf=['colored', 'undesirable', 'asiatic', 'illegal'])\n",
    "    ]}\n",
    ")\n",
    "c2"
   ]
  },
  {
   "cell_type": "code",
   "execution_count": 15,
   "metadata": {},
   "outputs": [],
   "source": [
    "nat_df = make_word_sets(['naturalised', 'unnaturalised'], position='before', distance=1)"
   ]
  },
  {
   "cell_type": "code",
   "execution_count": 16,
   "metadata": {},
   "outputs": [
    {
     "data": {
      "application/javascript": [
       "var spec = {\"config\": {\"view\": {\"width\": 400, \"height\": 300}}, \"data\": {\"url\": \"altair-data-8c0a3e63ec125bd7e0cc2634c81b1f4e.json\", \"format\": {\"type\": \"json\"}}, \"mark\": \"bar\", \"encoding\": {\"color\": {\"type\": \"nominal\", \"field\": \"word\"}, \"x\": {\"type\": \"nominal\", \"field\": \"date\", \"timeUnit\": \"year\"}, \"y\": {\"type\": \"quantitative\", \"aggregate\": \"count\"}}, \"transform\": [{\"filter\": {\"and\": [{\"field\": \"date\", \"range\": [1900, 1950], \"timeUnit\": \"year\"}]}}], \"$schema\": \"https://vega.github.io/schema/vega-lite/v2.6.0.json\"};\n",
       "var opt = {};\n",
       "var type = \"vega-lite\";\n",
       "var id = \"2962628c-a76a-4ce7-bcaf-b31624c76562\";\n",
       "\n",
       "var output_area = this;\n",
       "\n",
       "require([\"nbextensions/jupyter-vega/index\"], function(vega) {\n",
       "  var target = document.createElement(\"div\");\n",
       "  target.id = id;\n",
       "  target.className = \"vega-embed\";\n",
       "\n",
       "  var style = document.createElement(\"style\");\n",
       "  style.textContent = [\n",
       "    \".vega-embed .error p {\",\n",
       "    \"  color: firebrick;\",\n",
       "    \"  font-size: 14px;\",\n",
       "    \"}\",\n",
       "  ].join(\"\\\\n\");\n",
       "\n",
       "  // element is a jQuery wrapped DOM element inside the output area\n",
       "  // see http://ipython.readthedocs.io/en/stable/api/generated/\\\n",
       "  // IPython.display.html#IPython.display.Javascript.__init__\n",
       "  element[0].appendChild(target);\n",
       "  element[0].appendChild(style);\n",
       "\n",
       "  vega.render(\"#\" + id, spec, type, opt, output_area);\n",
       "}, function (err) {\n",
       "  if (err.requireType !== \"scripterror\") {\n",
       "    throw(err);\n",
       "  }\n",
       "});\n"
      ],
      "text/plain": [
       "<vega.vegalite.VegaLite at 0x12d6ed7b8>"
      ]
     },
     "metadata": {
      "jupyter-vega": "#2962628c-a76a-4ce7-bcaf-b31624c76562"
     },
     "output_type": "display_data"
    },
    {
     "data": {
      "text/plain": []
     },
     "execution_count": 16,
     "metadata": {},
     "output_type": "execute_result"
    },
    {
     "data": {
      "image/png": "[encoded data removed]"
     },
     "metadata": {
      "jupyter-vega": "#2962628c-a76a-4ce7-bcaf-b31624c76562"
     },
     "output_type": "display_data"
    }
   ],
   "source": [
    "c4 = alt.Chart(nat_df).mark_bar().encode(\n",
    "    x='year(date):N',\n",
    "    y=alt.Y('count():Q'),\n",
    "    color='word'\n",
    ").properties(\n",
    "\n",
    ").transform_filter(\n",
    "    {'and': [\n",
    "        alt.FieldRangePredicate(field='date', range=[1900, 1950], timeUnit='year'),\n",
    "        #alt.FieldOneOfPredicate(field='word', oneOf=['colored', 'undesirable', 'asiatic', 'illegal'])\n",
    "    ]}\n",
    ")\n",
    "c4"
   ]
  },
  {
   "cell_type": "code",
   "execution_count": null,
   "metadata": {},
   "outputs": [],
   "source": []
  }
 ],
 "metadata": {
  "kernelspec": {
   "display_name": "Python 3",
   "language": "python",
   "name": "python3"
  },
  "language_info": {
   "codemirror_mode": {
    "name": "ipython",
    "version": 3
   },
   "file_extension": ".py",
   "mimetype": "text/x-python",
   "name": "python",
   "nbconvert_exporter": "python",
   "pygments_lexer": "ipython3",
   "version": "3.6.5"
  }
 },
 "nbformat": 4,
 "nbformat_minor": 2
}
